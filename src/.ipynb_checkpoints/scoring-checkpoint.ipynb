{
 "cells": [
  {
   "cell_type": "markdown",
   "metadata": {},
   "source": [
    "Script pour le projet long\n",
    "=============="
   ]
  },
  {
   "cell_type": "code",
   "execution_count": 10,
   "metadata": {},
   "outputs": [],
   "source": [
    "#import \n",
    "import glob\n",
    "import pbxplore as pbx"
   ]
  },
  {
   "cell_type": "code",
   "execution_count": 7,
   "metadata": {},
   "outputs": [
    {
     "name": "stdout",
     "output_type": "stream",
     "text": [
      "['../data/test.pdb']\n"
     ]
    }
   ],
   "source": [
    "#importer les fichiers homstrad stocke dans le dossier data\n",
    "liste_pdb=glob.glob(\"../data/*.pdb\")\n",
    "print(liste_pdb)"
   ]
  },
  {
   "cell_type": "code",
   "execution_count": 8,
   "metadata": {},
   "outputs": [],
   "source": [
    "#dssp\n",
    "import Bio\n",
    "Bio.PDB.DSSP\n",
    "p = Bio.PDB.PDBParser()\n",
    "structure = p.get_structure(\"1MOT\", \"1mot.pdb\")\n",
    "model = structure[0]\n",
    "dssp = Bio.PDB.DSSP(model, \"1mot.pdb\")\n",
    "dssp = Bio.PDB.DSSP(model, '1mot.pdb', dssp='mkdssp')\n",
    "a_key = list(dssp.keys())[2]\n",
    "a_key\n",
    "dssp[a_key]\n",
    "\n",
    "\n",
    "\"\"\"   \n",
    "    0 \tDSSP index\n",
    "    1 \tAmino acid\n",
    "    2 \tSecondary structure\n",
    "    3 \tRelative ASA\n",
    "    4 \tPhi\n",
    "    5 \tPsi\n",
    "    6 \tNH-->O_1_relidx\n",
    "    7 \tNH-->O_1_energy\n",
    "    8 \tO-->NH_1_relidx\n",
    "    9 \tO-->NH_1_energy\n",
    "    10 \tNH-->O_2_relidx\n",
    "    11 \tNH-->O_2_energy\n",
    "    12 \tO-->NH_2_relidx\n",
    "    13 \tO-->NH_2_energy\n",
    "\"\"\"\"\"\n"
   ]
  },
  {
   "cell_type": "code",
   "execution_count": 6,
   "metadata": {},
   "outputs": [],
   "source": [
    "#pbxplore\n",
    "def liste_sequence(path_sequences):\n",
    "    '''\n",
    "    Parse le dossier contenant les fichiers pdb a analyses.\n",
    "    Assigne a chaque PDB une sequence de blocs proteique.\n",
    "    Retourne une liste de sequences de blocs proteique (sequences) ainsi\n",
    "    que la liste des PDB (liste_PDB) presents dans le repertoire\n",
    "    (path_sequences).\n",
    "    '''\n",
    "    sequences = []\n",
    "    liste_PDB = []\n",
    "    liste_chain = []\n",
    "    for element in os.listdir(path_sequences):\n",
    "        if element.endswith('.pdb'):\n",
    "            liste_PDB.append(element)\n",
    "            for chain_name, chain in pbx.chains_from_files([path_sequences+\"/\"+element]):\n",
    "                liste_chain.append(chain_name)\n",
    "                # Calcule angle phi et psi\n",
    "                dihedrials = chain.get_phi_psi_angles()\n",
    "                # assignation des blocks proteique\n",
    "                pb_seq = pbx.assign(dihedrials)\n",
    "                sequences.append(pb_seq)\n",
    "    return sequences, liste_PDB, liste_chain\n"
   ]
  },
  {
   "cell_type": "code",
   "execution_count": null,
   "metadata": {},
   "outputs": [],
   "source": [
    "def definition_des_arguments():\n",
    "    \"\"\"\n",
    "    Implemenation de la fonction 'help'.\n",
    "    Verifie que les arguments --path_sequences et --output_file\n",
    "    sont corrects.\n",
    "    Renvoie la liste des arguments.\n",
    "    \"\"\"\n",
    "\n",
    "    parser = argparse.ArgumentParser(\n",
    "                                    description=\"Ce script permet un \\\n",
    "                                    regroupement parles K-means a l'aide \\\n",
    "                                    d'un alphabet structural.\")\n",
    "    parser.add_argument('--input_directory', action=\"store\", type=str,\n",
    "                        dest='path_sequences', required=True, help=\"repertoire \\\n",
    "                        comptenant les donnees a analyser\")\n",
    "    parser.add_argument('--output',  dest='output_file', action=\"store\",\n",
    "                        type=str, required=True, help='Nom du repertoire \\\n",
    "                        où seront stockees les sorties')\n",
    "    parser.add_argument('--ncluster',  dest='nombre_cluster', type=int,\n",
    "                        default=3,  help='Nombre de cluster (par defaut 3)')\n",
    "    parser.add_argument('--step',  dest='nombre_pas', type=int,  default=20,\n",
    "                        help='Nombre de pas d\\'apprentissage (par defaut 20)')\n",
    "    args = parser.parse_args()\n",
    "    if not os.path.exists(args.path_sequences):\n",
    "        sys.exit(\"Ce fichier n'existe pas! \\n\")\n",
    "    if os.path.exists(args.output_file):\n",
    "        sys.exit(\"Ce dossier existe deja! \\n\")\n",
    "    return args\n"
   ]
  },
  {
   "cell_type": "code",
   "execution_count": null,
   "metadata": {},
   "outputs": [],
   "source": [
    "if __name__ == '__main__':\n",
    "    # Recuperation de moment du lancement du code\n",
    "    debut = time.time()\n",
    "    # Recuperation des arguments\n",
    "    args = definition_des_arguments()\n",
    "    adress_abs = os.getcwd()\n",
    "    # Creation du repertoire qui va contenir les resultats\n",
    "    repertoire = adress_abs+\"/Resultat/\"+args.output_file\n",
    "    os.system(\"mkdir \"+repertoire)\n",
    "    path_data = adress_abs+\"/\"+args.path_sequences\n",
    "    sequences, liste_PDB, liste_chain = liste_sequence(path_data)\n",
    "    # initalisation d'une instance Blocks_P\n",
    "    instance = Blocs_P(sequences, liste_PDB, liste_chain)\n"
   ]
  }
 ],
 "metadata": {
  "kernelspec": {
   "display_name": "Python 2",
   "language": "python",
   "name": "python2"
  },
  "language_info": {
   "codemirror_mode": {
    "name": "ipython",
    "version": 2
   },
   "file_extension": ".py",
   "mimetype": "text/x-python",
   "name": "python",
   "nbconvert_exporter": "python",
   "pygments_lexer": "ipython2",
   "version": "2.7.12"
  }
 },
 "nbformat": 4,
 "nbformat_minor": 2
}
